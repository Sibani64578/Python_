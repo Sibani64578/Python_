{
 "cells": [
  {
   "cell_type": "code",
   "execution_count": 4,
   "id": "5bf7d5ed-eedc-4534-a801-70c0214077cd",
   "metadata": {},
   "outputs": [],
   "source": [
    "f=open(\"text.txt\",'w')"
   ]
  },
  {
   "cell_type": "code",
   "execution_count": 5,
   "id": "79995556-f553-46a6-8dd1-23df0af3d94d",
   "metadata": {},
   "outputs": [
    {
     "data": {
      "text/plain": [
       "'/home/jovyan/work'"
      ]
     },
     "execution_count": 5,
     "metadata": {},
     "output_type": "execute_result"
    }
   ],
   "source": [
    "pwd"
   ]
  },
  {
   "cell_type": "code",
   "execution_count": 6,
   "id": "d6813b44-da7b-4938-8f5d-49ed1c82e98d",
   "metadata": {},
   "outputs": [
    {
     "name": "stdout",
     "output_type": "stream",
     "text": [
      "copy_new.txt  data.json   new.txt    sample-code.ipynb  text1.txt  text.bin\n",
      "data.csv      file.ipynb  README.md  test.log           text4.bin  text.txt\n"
     ]
    }
   ],
   "source": [
    "ls"
   ]
  },
  {
   "cell_type": "code",
   "execution_count": 7,
   "id": "7452d135-6e6d-485c-b096-086f53f5af07",
   "metadata": {},
   "outputs": [
    {
     "name": "stdout",
     "output_type": "stream",
     "text": [
      "[Errno 2] No such file or directory: 'work'\n",
      "/home/jovyan/work\n"
     ]
    }
   ],
   "source": [
    "cd work"
   ]
  },
  {
   "cell_type": "code",
   "execution_count": 8,
   "id": "c5efba33-1d8a-4f8c-9a13-4f99f4aeb6e3",
   "metadata": {},
   "outputs": [
    {
     "name": "stdout",
     "output_type": "stream",
     "text": [
      "copy_new.txt  data.json   new.txt    sample-code.ipynb  text1.txt  text.bin\n",
      "data.csv      file.ipynb  README.md  test.log           text4.bin  text.txt\n"
     ]
    }
   ],
   "source": [
    "ls"
   ]
  },
  {
   "cell_type": "code",
   "execution_count": 9,
   "id": "a1f0d727-ec75-4b5d-aa34-3cf1a61edcf0",
   "metadata": {},
   "outputs": [
    {
     "data": {
      "text/plain": [
       "28"
      ]
     },
     "execution_count": 9,
     "metadata": {},
     "output_type": "execute_result"
    }
   ],
   "source": [
    "f.write(\"this is my 1st file to write\")"
   ]
  },
  {
   "cell_type": "code",
   "execution_count": 10,
   "id": "45705b6a-d09a-49f1-8e03-26c03be59aea",
   "metadata": {},
   "outputs": [],
   "source": [
    "f.close()"
   ]
  },
  {
   "cell_type": "code",
   "execution_count": 11,
   "id": "e5ef66aa-3a47-4649-8c3c-d25d69802344",
   "metadata": {},
   "outputs": [],
   "source": [
    "f=open(\"text.txt\",'w')"
   ]
  },
  {
   "cell_type": "code",
   "execution_count": 12,
   "id": "3581f82b-acb6-42df-bf28-3a1d3e5bad4c",
   "metadata": {},
   "outputs": [
    {
     "data": {
      "text/plain": [
       "15"
      ]
     },
     "execution_count": 12,
     "metadata": {},
     "output_type": "execute_result"
    }
   ],
   "source": [
    "f.write(\"this is my file\")"
   ]
  },
  {
   "cell_type": "code",
   "execution_count": 13,
   "id": "c4fcba3e-44cf-4959-88ec-a9dbd5c2c927",
   "metadata": {},
   "outputs": [],
   "source": [
    "f.close()"
   ]
  },
  {
   "cell_type": "code",
   "execution_count": 14,
   "id": "6ee0110b-749d-4fde-bd9e-950371d627ec",
   "metadata": {},
   "outputs": [],
   "source": [
    "f=open(\"text.txt\",'a')"
   ]
  },
  {
   "cell_type": "code",
   "execution_count": 15,
   "id": "0382e68a-caab-4b38-9455-ac8a94f5d18d",
   "metadata": {},
   "outputs": [
    {
     "data": {
      "text/plain": [
       "20"
      ]
     },
     "execution_count": 15,
     "metadata": {},
     "output_type": "execute_result"
    }
   ],
   "source": [
    "f.write(\"shiania sankar nayak\")"
   ]
  },
  {
   "cell_type": "code",
   "execution_count": 16,
   "id": "3faa512a-7226-4405-b37e-d45ca19f8006",
   "metadata": {},
   "outputs": [],
   "source": [
    "f.close()"
   ]
  },
  {
   "cell_type": "code",
   "execution_count": 17,
   "id": "7ee91ddc-bbbd-4eed-9b71-c422b32a1896",
   "metadata": {},
   "outputs": [],
   "source": [
    "data=open(\"text.txt\",'r')"
   ]
  },
  {
   "cell_type": "code",
   "execution_count": 18,
   "id": "eb1e5f60-0b01-43a2-a8e7-5d227e58b2d4",
   "metadata": {},
   "outputs": [
    {
     "data": {
      "text/plain": [
       "'this is my fileshiania sankar nayak'"
      ]
     },
     "execution_count": 18,
     "metadata": {},
     "output_type": "execute_result"
    }
   ],
   "source": [
    "data.read()"
   ]
  },
  {
   "cell_type": "code",
   "execution_count": 19,
   "id": "f8c9740e-8a85-439b-a418-3f0bcb13eada",
   "metadata": {},
   "outputs": [
    {
     "data": {
      "text/plain": [
       "''"
      ]
     },
     "execution_count": 19,
     "metadata": {},
     "output_type": "execute_result"
    }
   ],
   "source": [
    "data.readline()"
   ]
  },
  {
   "cell_type": "code",
   "execution_count": 20,
   "id": "bb0f8239-216a-4d14-9f02-812d281459f0",
   "metadata": {},
   "outputs": [
    {
     "data": {
      "text/plain": [
       "2"
      ]
     },
     "execution_count": 20,
     "metadata": {},
     "output_type": "execute_result"
    }
   ],
   "source": [
    "data.seek(2)"
   ]
  },
  {
   "cell_type": "code",
   "execution_count": 21,
   "id": "6093793b-fd53-47cd-99d7-be7a23e0ea0b",
   "metadata": {},
   "outputs": [
    {
     "data": {
      "text/plain": [
       "'is is my fileshiania sankar nayak'"
      ]
     },
     "execution_count": 21,
     "metadata": {},
     "output_type": "execute_result"
    }
   ],
   "source": [
    "data.readline()"
   ]
  },
  {
   "cell_type": "code",
   "execution_count": 22,
   "id": "21665aec-4713-4320-8c3e-bfb06f4f52fb",
   "metadata": {},
   "outputs": [],
   "source": [
    "data1=open(\"text.txt\",'r')"
   ]
  },
  {
   "cell_type": "code",
   "execution_count": 23,
   "id": "6d033603-bc49-470d-8c09-b3f8d61f59d9",
   "metadata": {},
   "outputs": [
    {
     "name": "stdout",
     "output_type": "stream",
     "text": [
      "this is my fileshiania sankar nayak\n"
     ]
    }
   ],
   "source": [
    "for i in data1:\n",
    "    print(i)"
   ]
  },
  {
   "cell_type": "code",
   "execution_count": 24,
   "id": "637ff8d9-aed5-4d9d-9fdf-64fbf0ee3114",
   "metadata": {},
   "outputs": [],
   "source": [
    "import os"
   ]
  },
  {
   "cell_type": "code",
   "execution_count": 25,
   "id": "d7238f90-7e3f-42ba-a601-77244a5050e0",
   "metadata": {},
   "outputs": [
    {
     "data": {
      "text/plain": [
       "35"
      ]
     },
     "execution_count": 25,
     "metadata": {},
     "output_type": "execute_result"
    }
   ],
   "source": [
    "os.path.getsize(\"text.txt\")"
   ]
  },
  {
   "cell_type": "code",
   "execution_count": 26,
   "id": "2315a39d-5b00-46b2-a74f-aa341586581f",
   "metadata": {},
   "outputs": [],
   "source": [
    "os.remove(\"text.txt\")"
   ]
  },
  {
   "cell_type": "code",
   "execution_count": 27,
   "id": "47d199f0-c72b-40cd-8b23-d6da52fa0793",
   "metadata": {},
   "outputs": [],
   "source": [
    "f=open(\"text1.txt\",'w')"
   ]
  },
  {
   "cell_type": "code",
   "execution_count": 28,
   "id": "ce9175f7-639d-4ef5-a194-d44ebfe15d91",
   "metadata": {},
   "outputs": [
    {
     "data": {
      "text/plain": [
       "456"
      ]
     },
     "execution_count": 28,
     "metadata": {},
     "output_type": "execute_result"
    }
   ],
   "source": [
    "f.write(\" this example, account_number is a protected attribute, and balance is a private attribute. Although Python does not enforce strict encapsulation, the use of naming conventions and name mangling helps indicate the intended visibility of attributes and methods, making it more maintainable and readable. It is generally a good practice to follow the conventions and respect the intended visibility of class members to achieve proper encapsulation in Python.\")"
   ]
  },
  {
   "cell_type": "code",
   "execution_count": 29,
   "id": "3a46bb7b-f084-423a-bacb-019f9c830881",
   "metadata": {},
   "outputs": [],
   "source": [
    "f.close()"
   ]
  },
  {
   "cell_type": "code",
   "execution_count": 30,
   "id": "f185f47f-eb87-4a3f-ba55-afad664e7850",
   "metadata": {},
   "outputs": [],
   "source": [
    "os.rename(\"text1.txt\",'new.txt')"
   ]
  },
  {
   "cell_type": "code",
   "execution_count": 31,
   "id": "b688108d-2cde-4d46-a82b-eae566cab645",
   "metadata": {},
   "outputs": [],
   "source": [
    "import shutil"
   ]
  },
  {
   "cell_type": "code",
   "execution_count": 32,
   "id": "c92cbce0-f0ef-4957-acc1-616afabbc2f0",
   "metadata": {},
   "outputs": [
    {
     "data": {
      "text/plain": [
       "'copy_new.txt'"
      ]
     },
     "execution_count": 32,
     "metadata": {},
     "output_type": "execute_result"
    }
   ],
   "source": [
    "shutil.copy(\"new.txt\",\"copy_new.txt\")"
   ]
  },
  {
   "cell_type": "code",
   "execution_count": 33,
   "id": "90118969-7077-4ebc-94b1-a34bace38b90",
   "metadata": {},
   "outputs": [
    {
     "name": "stdout",
     "output_type": "stream",
     "text": [
      " this example, account_number is a protected attribute, and balance is a private attribute. Although Python does not enforce strict encapsulation, the use of naming conventions and name mangling helps indicate the intended visibility of attributes and methods, making it more maintainable and readable. It is generally a good practice to follow the conventions and respect the intended visibility of class members to achieve proper encapsulation in Python.\n"
     ]
    }
   ],
   "source": [
    "with open(\"new.txt\",\"r\") as f :\n",
    "    print(f.read())"
   ]
  },
  {
   "cell_type": "code",
   "execution_count": 34,
   "id": "c283b658-d5d5-4753-bf4d-967dab092c28",
   "metadata": {},
   "outputs": [],
   "source": [
    "#file reading and writing"
   ]
  },
  {
   "cell_type": "code",
   "execution_count": 35,
   "id": "7483582c-2572-450d-b775-245d8ed1469e",
   "metadata": {},
   "outputs": [],
   "source": [
    "data={\n",
    "    \"name\":\"shibani\",\n",
    "    \"mail_id\":\"nayakshibano@gmail.com\",\n",
    "    \"phone number\":7787098512,\n",
    "    \"subject\":[\"data scince\",\"big data\",\"data analytics\"]\n",
    "\n",
    "}"
   ]
  },
  {
   "cell_type": "code",
   "execution_count": 36,
   "id": "7dba4a63-232f-4447-8cae-97f047ea81b6",
   "metadata": {},
   "outputs": [],
   "source": [
    "import json"
   ]
  },
  {
   "cell_type": "code",
   "execution_count": 37,
   "id": "31030bc2-e65f-4796-8b04-80072c402282",
   "metadata": {},
   "outputs": [],
   "source": [
    "with open('data.json','w') as f:\n",
    "    json.dump(data,f)"
   ]
  },
  {
   "cell_type": "code",
   "execution_count": 38,
   "id": "73b9e1a9-0774-42ba-be07-539da4db83a0",
   "metadata": {},
   "outputs": [],
   "source": [
    "with open (\"data.json\",\"r\") as f:\n",
    "    data1=json.load(f)"
   ]
  },
  {
   "cell_type": "code",
   "execution_count": 39,
   "id": "d744f1e5-b060-470f-8f9e-a3fb78f3ee2b",
   "metadata": {},
   "outputs": [
    {
     "data": {
      "text/plain": [
       "{'name': 'shibani',\n",
       " 'mail_id': 'nayakshibano@gmail.com',\n",
       " 'phone number': 7787098512,\n",
       " 'subject': ['data scince', 'big data', 'data analytics']}"
      ]
     },
     "execution_count": 39,
     "metadata": {},
     "output_type": "execute_result"
    }
   ],
   "source": [
    "data1"
   ]
  },
  {
   "cell_type": "code",
   "execution_count": 40,
   "id": "4510626b-0a26-4243-8c90-e898f09bae75",
   "metadata": {},
   "outputs": [
    {
     "data": {
      "text/plain": [
       "'big data'"
      ]
     },
     "execution_count": 40,
     "metadata": {},
     "output_type": "execute_result"
    }
   ],
   "source": [
    "data1['subject'][1]"
   ]
  },
  {
   "cell_type": "code",
   "execution_count": 41,
   "id": "37d0398b-c041-4551-bb2d-04bed51b2110",
   "metadata": {},
   "outputs": [],
   "source": [
    "#comay\n",
    "\n",
    "#csv"
   ]
  },
  {
   "cell_type": "code",
   "execution_count": 42,
   "id": "1a43ae55-c8c9-40cf-931c-216eb2988f0d",
   "metadata": {},
   "outputs": [],
   "source": [
    "import csv"
   ]
  },
  {
   "cell_type": "code",
   "execution_count": 43,
   "id": "4ddaf48e-9987-4b1d-a1f3-098721f228e2",
   "metadata": {},
   "outputs": [],
   "source": [
    "data=[[\"name\",\"email_id\",\"phone_number\"],\n",
    "      ['shibani','nayakshi@gmail.com',778709851],\n",
    "      ['guddu','naukaka@gmail.com',8478658]\n",
    "     ]"
   ]
  },
  {
   "cell_type": "code",
   "execution_count": 44,
   "id": "d233abbb-3209-480c-8b71-f80a6fb2068d",
   "metadata": {},
   "outputs": [],
   "source": [
    "with open(\"data.csv\",'w') as f:\n",
    "    witer=csv.writer(f)\n",
    "    for i in data:\n",
    "        witer.writerow(i)"
   ]
  },
  {
   "cell_type": "code",
   "execution_count": 45,
   "id": "70eb735c-b362-4dde-9ba4-17993558a743",
   "metadata": {},
   "outputs": [
    {
     "name": "stdout",
     "output_type": "stream",
     "text": [
      "['name', 'email_id', 'phone_number']\n",
      "['shibani', 'nayakshi@gmail.com', '778709851']\n",
      "['guddu', 'naukaka@gmail.com', '8478658']\n"
     ]
    }
   ],
   "source": [
    "with open(\"data.csv\",'r') as f:\n",
    "    read_data=csv.reader(f)\n",
    "    for i in read_data:\n",
    "        print(i)"
   ]
  },
  {
   "cell_type": "code",
   "execution_count": 46,
   "id": "7b848a8a-2508-44cd-9aa3-6828fc0d9f34",
   "metadata": {},
   "outputs": [],
   "source": [
    "#binary data"
   ]
  },
  {
   "cell_type": "code",
   "execution_count": 47,
   "id": "72486c49-ee90-46ed-9be5-1c421404e383",
   "metadata": {},
   "outputs": [],
   "source": [
    "with open(\"text4.bin\",'wb')as f:\n",
    "    f.write(b\"\\x01\\x03\\x02525\")"
   ]
  },
  {
   "cell_type": "code",
   "execution_count": 48,
   "id": "8a5dd9f0-0053-414e-8eab-bf50d60694bd",
   "metadata": {},
   "outputs": [
    {
     "name": "stdout",
     "output_type": "stream",
     "text": [
      "b'\\x01\\x03\\x02525'\n"
     ]
    }
   ],
   "source": [
    "with open(\"text4.bin\",'rb')as f:\n",
    "    print(f.read())"
   ]
  },
  {
   "cell_type": "code",
   "execution_count": 49,
   "id": "f191b4b6-a413-43b1-9aa6-9cc1fd2b8393",
   "metadata": {},
   "outputs": [],
   "source": [
    "#buffer read and write"
   ]
  },
  {
   "cell_type": "code",
   "execution_count": 50,
   "id": "e34c43cc-a199-4b9d-8a1c-b98c065a57ac",
   "metadata": {},
   "outputs": [],
   "source": [
    "import io"
   ]
  },
  {
   "cell_type": "code",
   "execution_count": 51,
   "id": "7f440bda-54c0-40ca-8772-6e18d7e2e5d6",
   "metadata": {},
   "outputs": [],
   "source": [
    "with open('text1.txt','wb') as f:\n",
    "    file =io.BufferedWriter(f)\n",
    "    file.write(b\"this is my 1st line\\n\")\n",
    "    file.write(b\"this is my 2md line\")\n",
    "    file.flush()"
   ]
  },
  {
   "cell_type": "code",
   "execution_count": 52,
   "id": "4909b024-124e-4919-bb6f-94e2c68c41b6",
   "metadata": {},
   "outputs": [
    {
     "name": "stdout",
     "output_type": "stream",
     "text": [
      "b'this is my 1st line\\nthis is my 2md line'\n"
     ]
    }
   ],
   "source": [
    "with open(\"text1.txt\",'rb') as f:\n",
    "    file=io.BufferedReader(f)\n",
    "    data=file.read()\n",
    "    print(data)"
   ]
  },
  {
   "cell_type": "code",
   "execution_count": 53,
   "id": "4f4754bb-dca9-4873-ad41-1c2387800108",
   "metadata": {},
   "outputs": [],
   "source": [
    "#logging in python"
   ]
  },
  {
   "cell_type": "code",
   "execution_count": 54,
   "id": "8ddae5ba-f6b7-4230-af96-74db7a632acd",
   "metadata": {},
   "outputs": [
    {
     "name": "stdout",
     "output_type": "stream",
     "text": [
      "this is my print\n"
     ]
    }
   ],
   "source": [
    "print(\"this is my print\")"
   ]
  },
  {
   "cell_type": "code",
   "execution_count": 55,
   "id": "3c2c2231-87e5-46fd-8e72-cb92b333da70",
   "metadata": {},
   "outputs": [],
   "source": [
    "import logging"
   ]
  },
  {
   "cell_type": "code",
   "execution_count": 56,
   "id": "f8d124b9-39bf-45aa-8a58-4572739d5dc1",
   "metadata": {},
   "outputs": [],
   "source": [
    "logging.basicConfig(filename=\"test.log\",level=logging.INFO)"
   ]
  },
  {
   "cell_type": "code",
   "execution_count": 57,
   "id": "68cd2532-1e06-492b-91b7-7ced819dd7b1",
   "metadata": {},
   "outputs": [],
   "source": [
    "logging.info(\"log this line of execution\")"
   ]
  },
  {
   "cell_type": "code",
   "execution_count": 58,
   "id": "f23ce9b5-5e21-44a4-b3eb-834ea6f518f7",
   "metadata": {},
   "outputs": [],
   "source": [
    "logging.info(\"this is my print\")"
   ]
  },
  {
   "cell_type": "markdown",
   "id": "e89adaa6-19aa-4d14-8ed5-0c196a5582cf",
   "metadata": {},
   "source": [
    "1.NOTSET\n",
    "2.DEBUG\n",
    "3.INFO\n",
    "4.WARNING\n",
    "5.ERROR\n",
    "6.CRITICAL"
   ]
  },
  {
   "cell_type": "code",
   "execution_count": 59,
   "id": "b5e90cc2-05ea-4cc9-9584-514f11d707da",
   "metadata": {},
   "outputs": [],
   "source": [
    "logging.debug(\"this is shibsni\")"
   ]
  },
  {
   "cell_type": "code",
   "execution_count": 60,
   "id": "1b059c70-6228-43d2-9862-515b0b24e3d6",
   "metadata": {},
   "outputs": [],
   "source": [
    "logging.warning(\"this is my waring msg\")"
   ]
  },
  {
   "cell_type": "code",
   "execution_count": 61,
   "id": "b1078a14-db9d-48f5-851f-df53251bca1f",
   "metadata": {},
   "outputs": [],
   "source": [
    "logging.error(\"this is my error\")"
   ]
  },
  {
   "cell_type": "code",
   "execution_count": 62,
   "id": "26f7c493-7822-4ed3-ab74-0ff085fa0442",
   "metadata": {},
   "outputs": [],
   "source": [
    "logging.critical('this is my critical')"
   ]
  },
  {
   "cell_type": "code",
   "execution_count": 63,
   "id": "cea96405-a842-4599-bd6b-f672771c6147",
   "metadata": {},
   "outputs": [],
   "source": [
    "logging.shutdown()"
   ]
  },
  {
   "cell_type": "code",
   "execution_count": 64,
   "id": "775abd16-397b-4e04-b388-ccce47168d14",
   "metadata": {},
   "outputs": [],
   "source": [
    "logging.basicConfig(filename=\"test1.log\",level=logging.DEBUG,format='%(asctime)s%a(message)s')"
   ]
  },
  {
   "cell_type": "code",
   "execution_count": 65,
   "id": "c680874b-91dd-4a76-b26d-4952b043deb2",
   "metadata": {},
   "outputs": [],
   "source": [
    "logging.info(\"this is my in info loogiing\")\n",
    "logging.error(\"this is my error msg\")\n",
    "logging.critical(\"this is my critisal\")"
   ]
  },
  {
   "cell_type": "code",
   "execution_count": 66,
   "id": "9790b3b9-53ad-496e-801f-2b218713f17d",
   "metadata": {},
   "outputs": [],
   "source": [
    "logging.shutdown()"
   ]
  },
  {
   "cell_type": "code",
   "execution_count": 69,
   "id": "e1233f90-d9ca-44ec-b8ee-c8e16918e2b7",
   "metadata": {},
   "outputs": [],
   "source": [
    "logging.basicConfig(filename=\"test2.log\",level=logging.DEBUG,format='%(asctime)s %(name)s %(levelname)s %(message)s')"
   ]
  },
  {
   "cell_type": "code",
   "execution_count": 81,
   "id": "7d9d957c-7e72-4e87-8b07-66a8adbc281e",
   "metadata": {},
   "outputs": [],
   "source": [
    "logging.info(\"this is my in info loogiing\")\n",
    "logging.error(\"this is my error msg\")\n",
    "logging.critical(\"this is my critisal\")\n"
   ]
  },
  {
   "cell_type": "code",
   "execution_count": null,
   "id": "2e4f9545-e216-42e4-963b-18813b8a764e",
   "metadata": {},
   "outputs": [],
   "source": []
  },
  {
   "cell_type": "code",
   "execution_count": 82,
   "id": "05b1ee83-492c-422b-bac8-65a252c427f2",
   "metadata": {},
   "outputs": [],
   "source": [
    "l=[1,2,3,46,4,\"shibani\",\"kumar\"]"
   ]
  },
  {
   "cell_type": "code",
   "execution_count": 83,
   "id": "f8a72685-f0ef-4296-8a42-188b94be3930",
   "metadata": {},
   "outputs": [],
   "source": [
    "l1_int=[]\n",
    "l2_str=[]"
   ]
  },
  {
   "cell_type": "code",
   "execution_count": 88,
   "id": "1d3a81bf-f393-435c-884e-28a989f723f5",
   "metadata": {},
   "outputs": [],
   "source": [
    "for i in l:\n",
    "    logging.info(\"we ware tbej\")\n",
    "    if type(i)==list:\n",
    "        logging.info(\"IUNSISDE  list\")\n",
    "        for j in i:\n",
    "            if type(j)==int:\n",
    "                l1_int.append(j)\n",
    "    elif type(i)==int:\n",
    "        l1_int.append(i)\n",
    "    else:\n",
    "        if type(i)==str:\n",
    "            l2_str.append(i)"
   ]
  },
  {
   "cell_type": "code",
   "execution_count": 89,
   "id": "cee27c05-0060-431b-91aa-558e0a6bbf28",
   "metadata": {},
   "outputs": [
    {
     "data": {
      "text/plain": [
       "[1, 2, 3, 46, 4, 1, 2, 3, 46, 4, 1, 2, 3, 46, 4]"
      ]
     },
     "execution_count": 89,
     "metadata": {},
     "output_type": "execute_result"
    }
   ],
   "source": [
    "l1_int"
   ]
  },
  {
   "cell_type": "raw",
   "id": "316cf253-0050-45f4-ac0e-50aea2f19f29",
   "metadata": {},
   "source": [
    "l2_str"
   ]
  },
  {
   "cell_type": "code",
   "execution_count": null,
   "id": "5ab00878-dce2-4e2d-8632-5da2eb1a6d3b",
   "metadata": {},
   "outputs": [],
   "source": []
  },
  {
   "cell_type": "code",
   "execution_count": null,
   "id": "8c412292-192c-4ef4-ba26-029279a14e25",
   "metadata": {},
   "outputs": [],
   "source": []
  }
 ],
 "metadata": {
  "kernelspec": {
   "display_name": "Python 3 (ipykernel)",
   "language": "python",
   "name": "python3"
  },
  "language_info": {
   "codemirror_mode": {
    "name": "ipython",
    "version": 3
   },
   "file_extension": ".py",
   "mimetype": "text/x-python",
   "name": "python",
   "nbconvert_exporter": "python",
   "pygments_lexer": "ipython3",
   "version": "3.10.8"
  }
 },
 "nbformat": 4,
 "nbformat_minor": 5
}
